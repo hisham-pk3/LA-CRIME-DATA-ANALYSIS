{
 "cells": [
  {
   "cell_type": "code",
   "execution_count": 3,
   "id": "69c35e83-c47f-4031-8b90-2c0592515649",
   "metadata": {},
   "outputs": [
    {
     "name": "stdout",
     "output_type": "stream",
     "text": [
      "Collecting pyspark\n",
      "  Using cached pyspark-3.5.5-py2.py3-none-any.whl\n",
      "Collecting py4j==0.10.9.7 (from pyspark)\n",
      "  Using cached py4j-0.10.9.7-py2.py3-none-any.whl.metadata (1.5 kB)\n",
      "Using cached py4j-0.10.9.7-py2.py3-none-any.whl (200 kB)\n",
      "Installing collected packages: py4j, pyspark\n",
      "Successfully installed py4j-0.10.9.7 pyspark-3.5.5\n",
      "Note: you may need to restart the kernel to use updated packages.\n"
     ]
    },
    {
     "name": "stderr",
     "output_type": "stream",
     "text": [
      "\n",
      "[notice] A new release of pip is available: 24.2 -> 25.0.1\n",
      "[notice] To update, run: C:\\Record Realm\\Empire Repo\\crime_data_analysis_envi\\crime_env\\Scripts\\python.exe -m pip install --upgrade pip\n"
     ]
    }
   ],
   "source": [
    "pip install pyspark"
   ]
  },
  {
   "cell_type": "markdown",
   "id": "b9b55600-53d0-42d9-aedb-108b6a63c73b",
   "metadata": {},
   "source": [
    "<span style=\"font-size:20px\"><b>Initializing Spark Session and Loading Data from HDFS</b> <br>\n",
    "<span style=\"font-size:17px\">This cell creates a SparkSession configured to connect to a local Hadoop Distributed File System (HDFS) and reads the crime dataset (`Crime_Data_from_2020_to_Present.csv`) from the specified HDFS path. The data is loaded with headers and schema inference enabled. The first 10 rows are displayed to verify successful loading, and a row count is performed to confirm the dataset size.</span></span>"
   ]
  },
  {
   "cell_type": "code",
   "execution_count": 2,
   "id": "e9ff62f7-a7d4-4308-b0ed-37436dcd236d",
   "metadata": {
    "scrolled": true
   },
   "outputs": [
    {
     "name": "stdout",
     "output_type": "stream",
     "text": [
      "+---------+----------------------+----------------------+--------+----+----------+-----------+--------+------+----------------------------------------+-------------------+--------+--------+------------+---------+--------------------------------------------+--------------+-----------+------+------------+--------+--------+--------+--------+----------------------------------------+------------+-------+---------+\n",
      "|DR_NO    |Date Rptd             |DATE OCC              |TIME OCC|AREA|AREA NAME |Rpt Dist No|Part 1-2|Crm Cd|Crm Cd Desc                             |Mocodes            |Vict Age|Vict Sex|Vict Descent|Premis Cd|Premis Desc                                 |Weapon Used Cd|Weapon Desc|Status|Status Desc |Crm Cd 1|Crm Cd 2|Crm Cd 3|Crm Cd 4|LOCATION                                |Cross Street|LAT    |LON      |\n",
      "+---------+----------------------+----------------------+--------+----+----------+-----------+--------+------+----------------------------------------+-------------------+--------+--------+------------+---------+--------------------------------------------+--------------+-----------+------+------------+--------+--------+--------+--------+----------------------------------------+------------+-------+---------+\n",
      "|190326475|03/01/2020 12:00:00 AM|03/01/2020 12:00:00 AM|2130    |7   |Wilshire  |784        |1       |510   |VEHICLE - STOLEN                        |null               |0       |M       |O           |101      |STREET                                      |null          |null       |AA    |Adult Arrest|510     |998     |null    |null    |1900 S  LONGWOOD                     AV |null        |34.0375|-118.3506|\n",
      "|200106753|02/09/2020 12:00:00 AM|02/08/2020 12:00:00 AM|1800    |1   |Central   |182        |1       |330   |BURGLARY FROM VEHICLE                   |1822 1402 0344     |47      |M       |O           |128      |BUS STOP/LAYOVER (ALSO QUERY 124)           |null          |null       |IC    |Invest Cont |330     |998     |null    |null    |1000 S  FLOWER                       ST |null        |34.0444|-118.2628|\n",
      "|200320258|11/11/2020 12:00:00 AM|11/04/2020 12:00:00 AM|1700    |3   |Southwest |356        |1       |480   |BIKE - STOLEN                           |0344 1251          |19      |X       |X           |502      |MULTI-UNIT DWELLING (APARTMENT, DUPLEX, ETC)|null          |null       |IC    |Invest Cont |480     |null    |null    |null    |1400 W  37TH                         ST |null        |34.021 |-118.3002|\n",
      "|200907217|05/10/2023 12:00:00 AM|03/10/2020 12:00:00 AM|2037    |9   |Van Nuys  |964        |1       |343   |SHOPLIFTING-GRAND THEFT ($950.01 & OVER)|0325 1501          |19      |M       |O           |405      |CLOTHING STORE                              |null          |null       |IC    |Invest Cont |343     |null    |null    |null    |14000    RIVERSIDE                    DR|null        |34.1576|-118.4387|\n",
      "|200412582|09/09/2020 12:00:00 AM|09/09/2020 12:00:00 AM|630     |4   |Hollenbeck|413        |1       |510   |VEHICLE - STOLEN                        |null               |0       |null    |null        |101      |STREET                                      |null          |null       |IC    |Invest Cont |510     |null    |null    |null    |200 E  AVENUE 28                        |null        |34.082 |-118.213 |\n",
      "|200209713|05/03/2020 12:00:00 AM|05/02/2020 12:00:00 AM|1800    |2   |Rampart   |245        |1       |510   |VEHICLE - STOLEN                        |null               |0       |null    |null        |101      |STREET                                      |null          |null       |IC    |Invest Cont |510     |null    |null    |null    |2500 W  4TH                          ST |null        |34.0642|-118.2771|\n",
      "|200200759|07/07/2020 12:00:00 AM|07/07/2020 12:00:00 AM|1340    |2   |Rampart   |265        |1       |648   |ARSON                                   |0329 1402 2004 1501|0       |X       |X           |101      |STREET                                      |null          |null       |IC    |Invest Cont |648     |998     |null    |null    |JAMES M WOOD                            |ALVARADO    |34.0536|-118.2788|\n",
      "|201308739|03/27/2020 12:00:00 AM|03/27/2020 12:00:00 AM|1210    |13  |Newton    |1333       |1       |510   |VEHICLE - STOLEN                        |null               |0       |null    |null        |101      |STREET                                      |null          |null       |IC    |Invest Cont |510     |null    |null    |null    |3200 S  SAN PEDRO                    ST |null        |34.017 |-118.2643|\n",
      "|201112065|07/31/2020 12:00:00 AM|07/30/2020 12:00:00 AM|2030    |11  |Northeast |1161       |1       |510   |VEHICLE - STOLEN                        |null               |0       |null    |null        |101      |STREET                                      |null          |null       |AA    |Adult Arrest|510     |null    |null    |null    |KENMORE                      ST         |FOUNTAIN    |34.0953|-118.2974|\n",
      "|200121929|12/04/2020 12:00:00 AM|12/03/2020 12:00:00 AM|2300    |1   |Central   |105        |1       |510   |VEHICLE - STOLEN                        |null               |0       |null    |null        |101      |STREET                                      |null          |null       |IC    |Invest Cont |510     |null    |null    |null    |400    SOLANO                       AV  |null        |34.071 |-118.2302|\n",
      "+---------+----------------------+----------------------+--------+----+----------+-----------+--------+------+----------------------------------------+-------------------+--------+--------+------------+---------+--------------------------------------------+--------------+-----------+------+------------+--------+--------+--------+--------+----------------------------------------+------------+-------+---------+\n",
      "only showing top 10 rows\n",
      "\n"
     ]
    },
    {
     "data": {
      "text/plain": [
       "1005199"
      ]
     },
     "execution_count": 2,
     "metadata": {},
     "output_type": "execute_result"
    }
   ],
   "source": [
    "from pyspark.sql import SparkSession\n",
    "\n",
    "# Create a SparkSession\n",
    "spark = SparkSession.builder \\\n",
    "    .appName(\"Crime Data Analysis\") \\\n",
    "    .config(\"spark.hadoop.fs.defaultFS\", \"hdfs://localhost:9000\") \\\n",
    "    .getOrCreate()\n",
    "\n",
    "# Read the CSV file from HDFS\n",
    "df = spark.read.csv(\"hdfs://localhost:9000/crime_data/Crime_Data_from_2020_to_Present.csv\", header=True, inferSchema=True)\n",
    "\n",
    "# Show first 10 rows\n",
    "df.show(n=10, truncate=False)\n",
    "df.count()"
   ]
  },
  {
   "cell_type": "code",
   "execution_count": 26,
   "id": "c5689513-e588-4e1c-9660-8c635e960196",
   "metadata": {
    "scrolled": true
   },
   "outputs": [
    {
     "name": "stdout",
     "output_type": "stream",
     "text": [
      "root\n",
      " |-- DR_NO: integer (nullable = true)\n",
      " |-- Date Rptd: string (nullable = true)\n",
      " |-- DATE OCC: string (nullable = true)\n",
      " |-- TIME OCC: integer (nullable = true)\n",
      " |-- AREA: integer (nullable = true)\n",
      " |-- AREA NAME: string (nullable = true)\n",
      " |-- Rpt Dist No: integer (nullable = true)\n",
      " |-- Part 1-2: integer (nullable = true)\n",
      " |-- Crm Cd: integer (nullable = true)\n",
      " |-- Crm Cd Desc: string (nullable = true)\n",
      " |-- Mocodes: string (nullable = true)\n",
      " |-- Vict Age: integer (nullable = true)\n",
      " |-- Vict Sex: string (nullable = true)\n",
      " |-- Vict Descent: string (nullable = true)\n",
      " |-- Premis Cd: integer (nullable = true)\n",
      " |-- Premis Desc: string (nullable = true)\n",
      " |-- Weapon Used Cd: integer (nullable = true)\n",
      " |-- Weapon Desc: string (nullable = true)\n",
      " |-- Status: string (nullable = true)\n",
      " |-- Status Desc: string (nullable = true)\n",
      " |-- Crm Cd 1: integer (nullable = true)\n",
      " |-- Crm Cd 2: integer (nullable = true)\n",
      " |-- Crm Cd 3: integer (nullable = true)\n",
      " |-- Crm Cd 4: integer (nullable = true)\n",
      " |-- LOCATION: string (nullable = true)\n",
      " |-- Cross Street: string (nullable = true)\n",
      " |-- LAT: double (nullable = true)\n",
      " |-- LON: double (nullable = true)\n",
      "\n"
     ]
    },
    {
     "data": {
      "text/plain": [
       "['DR_NO',\n",
       " 'Date Rptd',\n",
       " 'DATE OCC',\n",
       " 'TIME OCC',\n",
       " 'AREA',\n",
       " 'AREA NAME',\n",
       " 'Rpt Dist No',\n",
       " 'Part 1-2',\n",
       " 'Crm Cd',\n",
       " 'Crm Cd Desc',\n",
       " 'Mocodes',\n",
       " 'Vict Age',\n",
       " 'Vict Sex',\n",
       " 'Vict Descent',\n",
       " 'Premis Cd',\n",
       " 'Premis Desc',\n",
       " 'Weapon Used Cd',\n",
       " 'Weapon Desc',\n",
       " 'Status',\n",
       " 'Status Desc',\n",
       " 'Crm Cd 1',\n",
       " 'Crm Cd 2',\n",
       " 'Crm Cd 3',\n",
       " 'Crm Cd 4',\n",
       " 'LOCATION',\n",
       " 'Cross Street',\n",
       " 'LAT',\n",
       " 'LON']"
      ]
     },
     "execution_count": 26,
     "metadata": {},
     "output_type": "execute_result"
    }
   ],
   "source": [
    "df.printSchema()\n",
    "df.columns"
   ]
  },
  {
   "cell_type": "code",
   "execution_count": 20,
   "id": "6b591614-d45b-4249-b06a-52fd230f73b0",
   "metadata": {
    "scrolled": true
   },
   "outputs": [
    {
     "name": "stdout",
     "output_type": "stream",
     "text": [
      "+-------------+-----------------+----------------+----------------+------------+-----------------+-------------------+----------------+--------------+-------------------+---------------+----------------+----------------+--------------------+-----------------+-------------------+----------------------+-------------------+--------------+-------------------+----------------+----------------+----------------+----------------+----------------+--------------------+-----------+-----------+\n",
      "|DR_NO_missing|Date Rptd_missing|DATE OCC_missing|TIME OCC_missing|AREA_missing|AREA NAME_missing|Rpt Dist No_missing|Part 1-2_missing|Crm Cd_missing|Crm Cd Desc_missing|Mocodes_missing|Vict Age_missing|Vict Sex_missing|Vict Descent_missing|Premis Cd_missing|Premis Desc_missing|Weapon Used Cd_missing|Weapon Desc_missing|Status_missing|Status Desc_missing|Crm Cd 1_missing|Crm Cd 2_missing|Crm Cd 3_missing|Crm Cd 4_missing|LOCATION_missing|Cross Street_missing|LAT_missing|LON_missing|\n",
      "+-------------+-----------------+----------------+----------------+------------+-----------------+-------------------+----------------+--------------+-------------------+---------------+----------------+----------------+--------------------+-----------------+-------------------+----------------------+-------------------+--------------+-------------------+----------------+----------------+----------------+----------------+----------------+--------------------+-----------+-----------+\n",
      "|            0|                0|               0|               0|           0|                0|                  0|               0|             0|                  0|         151759|               0|          144781|              144793|               16|                588|                677917|             677917|             1|                  0|              11|          936040|         1002885|         1005135|               0|              850955|          0|          0|\n",
      "+-------------+-----------------+----------------+----------------+------------+-----------------+-------------------+----------------+--------------+-------------------+---------------+----------------+----------------+--------------------+-----------------+-------------------+----------------------+-------------------+--------------+-------------------+----------------+----------------+----------------+----------------+----------------+--------------------+-----------+-----------+\n",
      "\n"
     ]
    }
   ],
   "source": [
    "from pyspark.sql.functions import col, sum, when, lit\n",
    "\n",
    "# Count nulls or empty strings for each column\n",
    "df.select([\n",
    "    sum(\n",
    "        when((col(c).isNull()) | (col(c) == \"\") | (col(c) == \" \"), 1).otherwise(0)\n",
    "    ).alias(c + \"_missing\")\n",
    "    for c in df.columns\n",
    "]).show()"
   ]
  },
  {
   "cell_type": "markdown",
   "id": "700ec4dd-6ca2-450b-a11e-364682d491b2",
   "metadata": {},
   "source": [
    "<span style=\"font-size:20px\"><b>Converting String Columns to Date Format</b> <br>\n",
    "<span style=\"font-size:15px\">This cell converts the `Date Rptd` and `DATE OCC` columns from string format to proper Spark `DateType` using the `to_date()` function. This ensures that the date values can be used reliably for filtering, sorting, and time-based analysis throughout the project. After conversion, the schema and a sample of the DataFrame are displayed to confirm the changes.</span></span>"
   ]
  },
  {
   "cell_type": "code",
   "execution_count": 3,
   "id": "4829b880-f804-4708-b7b8-8d42849d6f13",
   "metadata": {
    "scrolled": true
   },
   "outputs": [
    {
     "name": "stdout",
     "output_type": "stream",
     "text": [
      "+---------+----------+----------+--------+----+----------+-----------+--------+------+----------------------------------------+-------------------+--------+--------+------------+---------+--------------------------------------------+--------------+-----------+------+------------+--------+--------+--------+--------+----------------------------------------+------------+-------+---------+\n",
      "|DR_NO    |Date Rptd |DATE OCC  |TIME OCC|AREA|AREA NAME |Rpt Dist No|Part 1-2|Crm Cd|Crm Cd Desc                             |Mocodes            |Vict Age|Vict Sex|Vict Descent|Premis Cd|Premis Desc                                 |Weapon Used Cd|Weapon Desc|Status|Status Desc |Crm Cd 1|Crm Cd 2|Crm Cd 3|Crm Cd 4|LOCATION                                |Cross Street|LAT    |LON      |\n",
      "+---------+----------+----------+--------+----+----------+-----------+--------+------+----------------------------------------+-------------------+--------+--------+------------+---------+--------------------------------------------+--------------+-----------+------+------------+--------+--------+--------+--------+----------------------------------------+------------+-------+---------+\n",
      "|190326475|2020-03-01|2020-03-01|2130    |7   |Wilshire  |784        |1       |510   |VEHICLE - STOLEN                        |null               |0       |M       |O           |101      |STREET                                      |null          |null       |AA    |Adult Arrest|510     |998     |null    |null    |1900 S  LONGWOOD                     AV |null        |34.0375|-118.3506|\n",
      "|200106753|2020-02-09|2020-02-08|1800    |1   |Central   |182        |1       |330   |BURGLARY FROM VEHICLE                   |1822 1402 0344     |47      |M       |O           |128      |BUS STOP/LAYOVER (ALSO QUERY 124)           |null          |null       |IC    |Invest Cont |330     |998     |null    |null    |1000 S  FLOWER                       ST |null        |34.0444|-118.2628|\n",
      "|200320258|2020-11-11|2020-11-04|1700    |3   |Southwest |356        |1       |480   |BIKE - STOLEN                           |0344 1251          |19      |X       |X           |502      |MULTI-UNIT DWELLING (APARTMENT, DUPLEX, ETC)|null          |null       |IC    |Invest Cont |480     |null    |null    |null    |1400 W  37TH                         ST |null        |34.021 |-118.3002|\n",
      "|200907217|2023-05-10|2020-03-10|2037    |9   |Van Nuys  |964        |1       |343   |SHOPLIFTING-GRAND THEFT ($950.01 & OVER)|0325 1501          |19      |M       |O           |405      |CLOTHING STORE                              |null          |null       |IC    |Invest Cont |343     |null    |null    |null    |14000    RIVERSIDE                    DR|null        |34.1576|-118.4387|\n",
      "|200412582|2020-09-09|2020-09-09|630     |4   |Hollenbeck|413        |1       |510   |VEHICLE - STOLEN                        |null               |0       |null    |null        |101      |STREET                                      |null          |null       |IC    |Invest Cont |510     |null    |null    |null    |200 E  AVENUE 28                        |null        |34.082 |-118.213 |\n",
      "|200209713|2020-05-03|2020-05-02|1800    |2   |Rampart   |245        |1       |510   |VEHICLE - STOLEN                        |null               |0       |null    |null        |101      |STREET                                      |null          |null       |IC    |Invest Cont |510     |null    |null    |null    |2500 W  4TH                          ST |null        |34.0642|-118.2771|\n",
      "|200200759|2020-07-07|2020-07-07|1340    |2   |Rampart   |265        |1       |648   |ARSON                                   |0329 1402 2004 1501|0       |X       |X           |101      |STREET                                      |null          |null       |IC    |Invest Cont |648     |998     |null    |null    |JAMES M WOOD                            |ALVARADO    |34.0536|-118.2788|\n",
      "|201308739|2020-03-27|2020-03-27|1210    |13  |Newton    |1333       |1       |510   |VEHICLE - STOLEN                        |null               |0       |null    |null        |101      |STREET                                      |null          |null       |IC    |Invest Cont |510     |null    |null    |null    |3200 S  SAN PEDRO                    ST |null        |34.017 |-118.2643|\n",
      "|201112065|2020-07-31|2020-07-30|2030    |11  |Northeast |1161       |1       |510   |VEHICLE - STOLEN                        |null               |0       |null    |null        |101      |STREET                                      |null          |null       |AA    |Adult Arrest|510     |null    |null    |null    |KENMORE                      ST         |FOUNTAIN    |34.0953|-118.2974|\n",
      "|200121929|2020-12-04|2020-12-03|2300    |1   |Central   |105        |1       |510   |VEHICLE - STOLEN                        |null               |0       |null    |null        |101      |STREET                                      |null          |null       |IC    |Invest Cont |510     |null    |null    |null    |400    SOLANO                       AV  |null        |34.071 |-118.2302|\n",
      "+---------+----------+----------+--------+----+----------+-----------+--------+------+----------------------------------------+-------------------+--------+--------+------------+---------+--------------------------------------------+--------------+-----------+------+------------+--------+--------+--------+--------+----------------------------------------+------------+-------+---------+\n",
      "only showing top 10 rows\n",
      "\n",
      "root\n",
      " |-- DR_NO: integer (nullable = true)\n",
      " |-- Date Rptd: date (nullable = true)\n",
      " |-- DATE OCC: date (nullable = true)\n",
      " |-- TIME OCC: integer (nullable = true)\n",
      " |-- AREA: integer (nullable = true)\n",
      " |-- AREA NAME: string (nullable = true)\n",
      " |-- Rpt Dist No: integer (nullable = true)\n",
      " |-- Part 1-2: integer (nullable = true)\n",
      " |-- Crm Cd: integer (nullable = true)\n",
      " |-- Crm Cd Desc: string (nullable = true)\n",
      " |-- Mocodes: string (nullable = true)\n",
      " |-- Vict Age: integer (nullable = true)\n",
      " |-- Vict Sex: string (nullable = true)\n",
      " |-- Vict Descent: string (nullable = true)\n",
      " |-- Premis Cd: integer (nullable = true)\n",
      " |-- Premis Desc: string (nullable = true)\n",
      " |-- Weapon Used Cd: integer (nullable = true)\n",
      " |-- Weapon Desc: string (nullable = true)\n",
      " |-- Status: string (nullable = true)\n",
      " |-- Status Desc: string (nullable = true)\n",
      " |-- Crm Cd 1: integer (nullable = true)\n",
      " |-- Crm Cd 2: integer (nullable = true)\n",
      " |-- Crm Cd 3: integer (nullable = true)\n",
      " |-- Crm Cd 4: integer (nullable = true)\n",
      " |-- LOCATION: string (nullable = true)\n",
      " |-- Cross Street: string (nullable = true)\n",
      " |-- LAT: double (nullable = true)\n",
      " |-- LON: double (nullable = true)\n",
      "\n"
     ]
    }
   ],
   "source": [
    "from pyspark.sql.functions import to_date, col\n",
    "\n",
    "df = df.withColumn(\"Date Rptd\", to_date(col(\"Date Rptd\"), \"MM/dd/yyyy hh:mm:ss a\"))\n",
    "df = df.withColumn(\"DATE OCC\", to_date(col(\"DATE OCC\"), \"MM/dd/yyyy hh:mm:ss a\"))\n",
    "\n",
    "df.show(10, truncate=False)\n",
    "df.printSchema()"
   ]
  },
  {
   "cell_type": "markdown",
   "id": "743a86cf-13d0-4da4-a6c4-25f94b292fdb",
   "metadata": {},
   "source": [
    "<span style=\"font-size:20px\"><b>Standardizing 'AREA NAME' Column</b> <br>\n",
    "<span style=\"font-size:15px\">This cell cleans the `AREA NAME` column by trimming leading/trailing whitespaces and converting all values to uppercase. This standardization ensures consistency when grouping or filtering by area names in later analysis.</span></span>"
   ]
  },
  {
   "cell_type": "code",
   "execution_count": 4,
   "id": "cc836f74-7296-48cb-a874-e3a7590d4eaa",
   "metadata": {},
   "outputs": [
    {
     "name": "stdout",
     "output_type": "stream",
     "text": [
      "+---------+----------+----------+--------+----+----------+-----------+--------+------+----------------------------------------+-------------------+--------+--------+------------+---------+--------------------------------------------+--------------+-----------+------+------------+--------+--------+--------+--------+----------------------------------------+------------+-------+---------+\n",
      "|DR_NO    |Date Rptd |DATE OCC  |TIME OCC|AREA|AREA NAME |Rpt Dist No|Part 1-2|Crm Cd|Crm Cd Desc                             |Mocodes            |Vict Age|Vict Sex|Vict Descent|Premis Cd|Premis Desc                                 |Weapon Used Cd|Weapon Desc|Status|Status Desc |Crm Cd 1|Crm Cd 2|Crm Cd 3|Crm Cd 4|LOCATION                                |Cross Street|LAT    |LON      |\n",
      "+---------+----------+----------+--------+----+----------+-----------+--------+------+----------------------------------------+-------------------+--------+--------+------------+---------+--------------------------------------------+--------------+-----------+------+------------+--------+--------+--------+--------+----------------------------------------+------------+-------+---------+\n",
      "|190326475|2020-03-01|2020-03-01|2130    |7   |WILSHIRE  |784        |1       |510   |VEHICLE - STOLEN                        |null               |0       |M       |O           |101      |STREET                                      |null          |null       |AA    |Adult Arrest|510     |998     |null    |null    |1900 S  LONGWOOD                     AV |null        |34.0375|-118.3506|\n",
      "|200106753|2020-02-09|2020-02-08|1800    |1   |CENTRAL   |182        |1       |330   |BURGLARY FROM VEHICLE                   |1822 1402 0344     |47      |M       |O           |128      |BUS STOP/LAYOVER (ALSO QUERY 124)           |null          |null       |IC    |Invest Cont |330     |998     |null    |null    |1000 S  FLOWER                       ST |null        |34.0444|-118.2628|\n",
      "|200320258|2020-11-11|2020-11-04|1700    |3   |SOUTHWEST |356        |1       |480   |BIKE - STOLEN                           |0344 1251          |19      |X       |X           |502      |MULTI-UNIT DWELLING (APARTMENT, DUPLEX, ETC)|null          |null       |IC    |Invest Cont |480     |null    |null    |null    |1400 W  37TH                         ST |null        |34.021 |-118.3002|\n",
      "|200907217|2023-05-10|2020-03-10|2037    |9   |VAN NUYS  |964        |1       |343   |SHOPLIFTING-GRAND THEFT ($950.01 & OVER)|0325 1501          |19      |M       |O           |405      |CLOTHING STORE                              |null          |null       |IC    |Invest Cont |343     |null    |null    |null    |14000    RIVERSIDE                    DR|null        |34.1576|-118.4387|\n",
      "|200412582|2020-09-09|2020-09-09|630     |4   |HOLLENBECK|413        |1       |510   |VEHICLE - STOLEN                        |null               |0       |null    |null        |101      |STREET                                      |null          |null       |IC    |Invest Cont |510     |null    |null    |null    |200 E  AVENUE 28                        |null        |34.082 |-118.213 |\n",
      "|200209713|2020-05-03|2020-05-02|1800    |2   |RAMPART   |245        |1       |510   |VEHICLE - STOLEN                        |null               |0       |null    |null        |101      |STREET                                      |null          |null       |IC    |Invest Cont |510     |null    |null    |null    |2500 W  4TH                          ST |null        |34.0642|-118.2771|\n",
      "|200200759|2020-07-07|2020-07-07|1340    |2   |RAMPART   |265        |1       |648   |ARSON                                   |0329 1402 2004 1501|0       |X       |X           |101      |STREET                                      |null          |null       |IC    |Invest Cont |648     |998     |null    |null    |JAMES M WOOD                            |ALVARADO    |34.0536|-118.2788|\n",
      "|201308739|2020-03-27|2020-03-27|1210    |13  |NEWTON    |1333       |1       |510   |VEHICLE - STOLEN                        |null               |0       |null    |null        |101      |STREET                                      |null          |null       |IC    |Invest Cont |510     |null    |null    |null    |3200 S  SAN PEDRO                    ST |null        |34.017 |-118.2643|\n",
      "|201112065|2020-07-31|2020-07-30|2030    |11  |NORTHEAST |1161       |1       |510   |VEHICLE - STOLEN                        |null               |0       |null    |null        |101      |STREET                                      |null          |null       |AA    |Adult Arrest|510     |null    |null    |null    |KENMORE                      ST         |FOUNTAIN    |34.0953|-118.2974|\n",
      "|200121929|2020-12-04|2020-12-03|2300    |1   |CENTRAL   |105        |1       |510   |VEHICLE - STOLEN                        |null               |0       |null    |null        |101      |STREET                                      |null          |null       |IC    |Invest Cont |510     |null    |null    |null    |400    SOLANO                       AV  |null        |34.071 |-118.2302|\n",
      "+---------+----------+----------+--------+----+----------+-----------+--------+------+----------------------------------------+-------------------+--------+--------+------------+---------+--------------------------------------------+--------------+-----------+------+------------+--------+--------+--------+--------+----------------------------------------+------------+-------+---------+\n",
      "only showing top 10 rows\n",
      "\n"
     ]
    }
   ],
   "source": [
    "from pyspark.sql.functions import trim, upper\n",
    "\n",
    "#AREA NAME: Trim whitespaces and Convert to uppercase for consistency\n",
    "df = df.withColumn(\"AREA NAME\", upper(trim(col(\"AREA NAME\"))))\n",
    "df.show(n=10, truncate=False)"
   ]
  },
  {
   "cell_type": "markdown",
   "id": "0fb6f6af-b6b8-4590-ba3a-4848fbc0210f",
   "metadata": {},
   "source": [
    "<span style=\"font-size:20px\"><b>Cleaning the 'LOCATION' Column</b> <br>\n",
    "<span style=\"font-size:15px\">This cell standardizes the `LOCATION` column by:<br>\n",
    "- Trimming leading and trailing whitespaces<br>\n",
    "- Replacing multiple consecutive spaces (e.g., between street names and abbreviations) with a single space<br>\n",
    "\n",
    "This improves the consistency of address data and prepares it for reliable grouping or matching operations.</span></span>"
   ]
  },
  {
   "cell_type": "code",
   "execution_count": 5,
   "id": "253fb93d-fa33-409c-b788-682b8e531163",
   "metadata": {},
   "outputs": [
    {
     "name": "stdout",
     "output_type": "stream",
     "text": [
      "+---------+----------+----------+--------+----+----------+-----------+--------+------+----------------------------------------+-------------------+--------+--------+------------+---------+--------------------------------------------+--------------+-----------+------+------------+--------+--------+--------+--------+-------------------+------------+-------+---------+\n",
      "|DR_NO    |Date Rptd |DATE OCC  |TIME OCC|AREA|AREA NAME |Rpt Dist No|Part 1-2|Crm Cd|Crm Cd Desc                             |Mocodes            |Vict Age|Vict Sex|Vict Descent|Premis Cd|Premis Desc                                 |Weapon Used Cd|Weapon Desc|Status|Status Desc |Crm Cd 1|Crm Cd 2|Crm Cd 3|Crm Cd 4|LOCATION           |Cross Street|LAT    |LON      |\n",
      "+---------+----------+----------+--------+----+----------+-----------+--------+------+----------------------------------------+-------------------+--------+--------+------------+---------+--------------------------------------------+--------------+-----------+------+------------+--------+--------+--------+--------+-------------------+------------+-------+---------+\n",
      "|190326475|2020-03-01|2020-03-01|2130    |7   |WILSHIRE  |784        |1       |510   |VEHICLE - STOLEN                        |null               |0       |M       |O           |101      |STREET                                      |null          |null       |AA    |Adult Arrest|510     |998     |null    |null    |1900 S LONGWOOD AV |null        |34.0375|-118.3506|\n",
      "|200106753|2020-02-09|2020-02-08|1800    |1   |CENTRAL   |182        |1       |330   |BURGLARY FROM VEHICLE                   |1822 1402 0344     |47      |M       |O           |128      |BUS STOP/LAYOVER (ALSO QUERY 124)           |null          |null       |IC    |Invest Cont |330     |998     |null    |null    |1000 S FLOWER ST   |null        |34.0444|-118.2628|\n",
      "|200320258|2020-11-11|2020-11-04|1700    |3   |SOUTHWEST |356        |1       |480   |BIKE - STOLEN                           |0344 1251          |19      |X       |X           |502      |MULTI-UNIT DWELLING (APARTMENT, DUPLEX, ETC)|null          |null       |IC    |Invest Cont |480     |null    |null    |null    |1400 W 37TH ST     |null        |34.021 |-118.3002|\n",
      "|200907217|2023-05-10|2020-03-10|2037    |9   |VAN NUYS  |964        |1       |343   |SHOPLIFTING-GRAND THEFT ($950.01 & OVER)|0325 1501          |19      |M       |O           |405      |CLOTHING STORE                              |null          |null       |IC    |Invest Cont |343     |null    |null    |null    |14000 RIVERSIDE DR |null        |34.1576|-118.4387|\n",
      "|200412582|2020-09-09|2020-09-09|630     |4   |HOLLENBECK|413        |1       |510   |VEHICLE - STOLEN                        |null               |0       |null    |null        |101      |STREET                                      |null          |null       |IC    |Invest Cont |510     |null    |null    |null    |200 E AVENUE 28    |null        |34.082 |-118.213 |\n",
      "|200209713|2020-05-03|2020-05-02|1800    |2   |RAMPART   |245        |1       |510   |VEHICLE - STOLEN                        |null               |0       |null    |null        |101      |STREET                                      |null          |null       |IC    |Invest Cont |510     |null    |null    |null    |2500 W 4TH ST      |null        |34.0642|-118.2771|\n",
      "|200200759|2020-07-07|2020-07-07|1340    |2   |RAMPART   |265        |1       |648   |ARSON                                   |0329 1402 2004 1501|0       |X       |X           |101      |STREET                                      |null          |null       |IC    |Invest Cont |648     |998     |null    |null    |JAMES M WOOD       |ALVARADO    |34.0536|-118.2788|\n",
      "|201308739|2020-03-27|2020-03-27|1210    |13  |NEWTON    |1333       |1       |510   |VEHICLE - STOLEN                        |null               |0       |null    |null        |101      |STREET                                      |null          |null       |IC    |Invest Cont |510     |null    |null    |null    |3200 S SAN PEDRO ST|null        |34.017 |-118.2643|\n",
      "|201112065|2020-07-31|2020-07-30|2030    |11  |NORTHEAST |1161       |1       |510   |VEHICLE - STOLEN                        |null               |0       |null    |null        |101      |STREET                                      |null          |null       |AA    |Adult Arrest|510     |null    |null    |null    |KENMORE ST         |FOUNTAIN    |34.0953|-118.2974|\n",
      "|200121929|2020-12-04|2020-12-03|2300    |1   |CENTRAL   |105        |1       |510   |VEHICLE - STOLEN                        |null               |0       |null    |null        |101      |STREET                                      |null          |null       |IC    |Invest Cont |510     |null    |null    |null    |400 SOLANO AV      |null        |34.071 |-118.2302|\n",
      "+---------+----------+----------+--------+----+----------+-----------+--------+------+----------------------------------------+-------------------+--------+--------+------------+---------+--------------------------------------------+--------------+-----------+------+------------+--------+--------+--------+--------+-------------------+------------+-------+---------+\n",
      "only showing top 10 rows\n",
      "\n"
     ]
    }
   ],
   "source": [
    "#LOCATION: Trim whitespace, Replace empty strings with null, Replace multiple white spaces in between words (especially in between address and street type abbreviation) with single white space\n",
    "from pyspark.sql.functions import trim, regexp_replace, col\n",
    "\n",
    "df = df.withColumn(\"LOCATION\", trim(regexp_replace(col(\"LOCATION\"), r\"\\s+\", \" \")))\n",
    "df.show(n=10, truncate=False)"
   ]
  },
  {
   "cell_type": "markdown",
   "id": "631e308d-195c-46bf-9369-cee6a3bb61fd",
   "metadata": {},
   "source": [
    "<span style=\"font-size:20px\"><b>Dropping Unnecessary Column: 'Cross Street'</b></span>"
   ]
  },
  {
   "cell_type": "code",
   "execution_count": 6,
   "id": "ccf1d34a-578b-465d-be28-f4037b78e819",
   "metadata": {},
   "outputs": [
    {
     "name": "stdout",
     "output_type": "stream",
     "text": [
      "+---------+----------+----------+--------+----+----------+-----------+--------+------+----------------------------------------+-------------------+--------+--------+------------+---------+--------------------------------------------+--------------+-----------+------+------------+--------+--------+--------+--------+-------------------+-------+---------+\n",
      "|DR_NO    |Date Rptd |DATE OCC  |TIME OCC|AREA|AREA NAME |Rpt Dist No|Part 1-2|Crm Cd|Crm Cd Desc                             |Mocodes            |Vict Age|Vict Sex|Vict Descent|Premis Cd|Premis Desc                                 |Weapon Used Cd|Weapon Desc|Status|Status Desc |Crm Cd 1|Crm Cd 2|Crm Cd 3|Crm Cd 4|LOCATION           |LAT    |LON      |\n",
      "+---------+----------+----------+--------+----+----------+-----------+--------+------+----------------------------------------+-------------------+--------+--------+------------+---------+--------------------------------------------+--------------+-----------+------+------------+--------+--------+--------+--------+-------------------+-------+---------+\n",
      "|190326475|2020-03-01|2020-03-01|2130    |7   |WILSHIRE  |784        |1       |510   |VEHICLE - STOLEN                        |null               |0       |M       |O           |101      |STREET                                      |null          |null       |AA    |Adult Arrest|510     |998     |null    |null    |1900 S LONGWOOD AV |34.0375|-118.3506|\n",
      "|200106753|2020-02-09|2020-02-08|1800    |1   |CENTRAL   |182        |1       |330   |BURGLARY FROM VEHICLE                   |1822 1402 0344     |47      |M       |O           |128      |BUS STOP/LAYOVER (ALSO QUERY 124)           |null          |null       |IC    |Invest Cont |330     |998     |null    |null    |1000 S FLOWER ST   |34.0444|-118.2628|\n",
      "|200320258|2020-11-11|2020-11-04|1700    |3   |SOUTHWEST |356        |1       |480   |BIKE - STOLEN                           |0344 1251          |19      |X       |X           |502      |MULTI-UNIT DWELLING (APARTMENT, DUPLEX, ETC)|null          |null       |IC    |Invest Cont |480     |null    |null    |null    |1400 W 37TH ST     |34.021 |-118.3002|\n",
      "|200907217|2023-05-10|2020-03-10|2037    |9   |VAN NUYS  |964        |1       |343   |SHOPLIFTING-GRAND THEFT ($950.01 & OVER)|0325 1501          |19      |M       |O           |405      |CLOTHING STORE                              |null          |null       |IC    |Invest Cont |343     |null    |null    |null    |14000 RIVERSIDE DR |34.1576|-118.4387|\n",
      "|200412582|2020-09-09|2020-09-09|630     |4   |HOLLENBECK|413        |1       |510   |VEHICLE - STOLEN                        |null               |0       |null    |null        |101      |STREET                                      |null          |null       |IC    |Invest Cont |510     |null    |null    |null    |200 E AVENUE 28    |34.082 |-118.213 |\n",
      "|200209713|2020-05-03|2020-05-02|1800    |2   |RAMPART   |245        |1       |510   |VEHICLE - STOLEN                        |null               |0       |null    |null        |101      |STREET                                      |null          |null       |IC    |Invest Cont |510     |null    |null    |null    |2500 W 4TH ST      |34.0642|-118.2771|\n",
      "|200200759|2020-07-07|2020-07-07|1340    |2   |RAMPART   |265        |1       |648   |ARSON                                   |0329 1402 2004 1501|0       |X       |X           |101      |STREET                                      |null          |null       |IC    |Invest Cont |648     |998     |null    |null    |JAMES M WOOD       |34.0536|-118.2788|\n",
      "|201308739|2020-03-27|2020-03-27|1210    |13  |NEWTON    |1333       |1       |510   |VEHICLE - STOLEN                        |null               |0       |null    |null        |101      |STREET                                      |null          |null       |IC    |Invest Cont |510     |null    |null    |null    |3200 S SAN PEDRO ST|34.017 |-118.2643|\n",
      "|201112065|2020-07-31|2020-07-30|2030    |11  |NORTHEAST |1161       |1       |510   |VEHICLE - STOLEN                        |null               |0       |null    |null        |101      |STREET                                      |null          |null       |AA    |Adult Arrest|510     |null    |null    |null    |KENMORE ST         |34.0953|-118.2974|\n",
      "|200121929|2020-12-04|2020-12-03|2300    |1   |CENTRAL   |105        |1       |510   |VEHICLE - STOLEN                        |null               |0       |null    |null        |101      |STREET                                      |null          |null       |IC    |Invest Cont |510     |null    |null    |null    |400 SOLANO AV      |34.071 |-118.2302|\n",
      "+---------+----------+----------+--------+----+----------+-----------+--------+------+----------------------------------------+-------------------+--------+--------+------------+---------+--------------------------------------------+--------------+-----------+------+------------+--------+--------+--------+--------+-------------------+-------+---------+\n",
      "only showing top 10 rows\n",
      "\n"
     ]
    }
   ],
   "source": [
    "# Dropped column Cross Street\n",
    "df = df.drop(\"Cross Street\")\n",
    "df.show(n=10, truncate=False)"
   ]
  },
  {
   "cell_type": "markdown",
   "id": "caf43e0c-114d-4340-95e2-92ddcf70ad08",
   "metadata": {},
   "source": [
    "<span style=\"font-size:20px\"><b>Dropping Unused Crime Code Columns</b></span>"
   ]
  },
  {
   "cell_type": "code",
   "execution_count": 7,
   "id": "f2f87771-5d11-4536-a8d8-67125d4fcdbe",
   "metadata": {},
   "outputs": [
    {
     "name": "stdout",
     "output_type": "stream",
     "text": [
      "+---------+----------+----------+--------+----+----------+-----------+--------+------+----------------------------------------+-------------------+--------+--------+------------+---------+--------------------------------------------+--------------+-----------+------+------------+--------+--------+-------------------+-------+---------+\n",
      "|DR_NO    |Date Rptd |DATE OCC  |TIME OCC|AREA|AREA NAME |Rpt Dist No|Part 1-2|Crm Cd|Crm Cd Desc                             |Mocodes            |Vict Age|Vict Sex|Vict Descent|Premis Cd|Premis Desc                                 |Weapon Used Cd|Weapon Desc|Status|Status Desc |Crm Cd 1|Crm Cd 2|LOCATION           |LAT    |LON      |\n",
      "+---------+----------+----------+--------+----+----------+-----------+--------+------+----------------------------------------+-------------------+--------+--------+------------+---------+--------------------------------------------+--------------+-----------+------+------------+--------+--------+-------------------+-------+---------+\n",
      "|190326475|2020-03-01|2020-03-01|2130    |7   |WILSHIRE  |784        |1       |510   |VEHICLE - STOLEN                        |null               |0       |M       |O           |101      |STREET                                      |null          |null       |AA    |Adult Arrest|510     |998     |1900 S LONGWOOD AV |34.0375|-118.3506|\n",
      "|200106753|2020-02-09|2020-02-08|1800    |1   |CENTRAL   |182        |1       |330   |BURGLARY FROM VEHICLE                   |1822 1402 0344     |47      |M       |O           |128      |BUS STOP/LAYOVER (ALSO QUERY 124)           |null          |null       |IC    |Invest Cont |330     |998     |1000 S FLOWER ST   |34.0444|-118.2628|\n",
      "|200320258|2020-11-11|2020-11-04|1700    |3   |SOUTHWEST |356        |1       |480   |BIKE - STOLEN                           |0344 1251          |19      |X       |X           |502      |MULTI-UNIT DWELLING (APARTMENT, DUPLEX, ETC)|null          |null       |IC    |Invest Cont |480     |null    |1400 W 37TH ST     |34.021 |-118.3002|\n",
      "|200907217|2023-05-10|2020-03-10|2037    |9   |VAN NUYS  |964        |1       |343   |SHOPLIFTING-GRAND THEFT ($950.01 & OVER)|0325 1501          |19      |M       |O           |405      |CLOTHING STORE                              |null          |null       |IC    |Invest Cont |343     |null    |14000 RIVERSIDE DR |34.1576|-118.4387|\n",
      "|200412582|2020-09-09|2020-09-09|630     |4   |HOLLENBECK|413        |1       |510   |VEHICLE - STOLEN                        |null               |0       |null    |null        |101      |STREET                                      |null          |null       |IC    |Invest Cont |510     |null    |200 E AVENUE 28    |34.082 |-118.213 |\n",
      "|200209713|2020-05-03|2020-05-02|1800    |2   |RAMPART   |245        |1       |510   |VEHICLE - STOLEN                        |null               |0       |null    |null        |101      |STREET                                      |null          |null       |IC    |Invest Cont |510     |null    |2500 W 4TH ST      |34.0642|-118.2771|\n",
      "|200200759|2020-07-07|2020-07-07|1340    |2   |RAMPART   |265        |1       |648   |ARSON                                   |0329 1402 2004 1501|0       |X       |X           |101      |STREET                                      |null          |null       |IC    |Invest Cont |648     |998     |JAMES M WOOD       |34.0536|-118.2788|\n",
      "|201308739|2020-03-27|2020-03-27|1210    |13  |NEWTON    |1333       |1       |510   |VEHICLE - STOLEN                        |null               |0       |null    |null        |101      |STREET                                      |null          |null       |IC    |Invest Cont |510     |null    |3200 S SAN PEDRO ST|34.017 |-118.2643|\n",
      "|201112065|2020-07-31|2020-07-30|2030    |11  |NORTHEAST |1161       |1       |510   |VEHICLE - STOLEN                        |null               |0       |null    |null        |101      |STREET                                      |null          |null       |AA    |Adult Arrest|510     |null    |KENMORE ST         |34.0953|-118.2974|\n",
      "|200121929|2020-12-04|2020-12-03|2300    |1   |CENTRAL   |105        |1       |510   |VEHICLE - STOLEN                        |null               |0       |null    |null        |101      |STREET                                      |null          |null       |IC    |Invest Cont |510     |null    |400 SOLANO AV      |34.071 |-118.2302|\n",
      "+---------+----------+----------+--------+----+----------+-----------+--------+------+----------------------------------------+-------------------+--------+--------+------------+---------+--------------------------------------------+--------------+-----------+------+------------+--------+--------+-------------------+-------+---------+\n",
      "only showing top 10 rows\n",
      "\n"
     ]
    }
   ],
   "source": [
    "#Dropped columns Crm Cd 3 and Crm Cd 4\n",
    "df = df.drop(\"Crm Cd 3\")\n",
    "df = df.drop(\"Crm Cd 4\")\n",
    "df.show(n=10, truncate=False)"
   ]
  },
  {
   "cell_type": "markdown",
   "id": "46dc8e56-5ef8-408f-9577-ab8736d0b852",
   "metadata": {},
   "source": [
    "<span style=\"font-size:20px\"><b>Cleaning 'Vict Age' Column</b> <br>\n",
    "<span style=\"font-size:15px\">This cell replaces invalid victim ages with `null`. Specifically, any age less than or equal to 0 or greater than 110 is considered unrealistic and is set to `null`. This ensures data quality and accuracy for age-related analyses.</span></span>"
   ]
  },
  {
   "cell_type": "code",
   "execution_count": 8,
   "id": "b9a22397-cc25-42f7-ae80-ec2ad1a01452",
   "metadata": {
    "scrolled": true
   },
   "outputs": [
    {
     "name": "stdout",
     "output_type": "stream",
     "text": [
      "+---------+----------+----------+--------+----+-----------+-----------+--------+------+----------------------------------------+-------------------+--------+--------+------------+---------+--------------------------------------------+--------------+-----------+------+------------+--------+--------+-------------------+-------+---------+\n",
      "|DR_NO    |Date Rptd |DATE OCC  |TIME OCC|AREA|AREA NAME  |Rpt Dist No|Part 1-2|Crm Cd|Crm Cd Desc                             |Mocodes            |Vict Age|Vict Sex|Vict Descent|Premis Cd|Premis Desc                                 |Weapon Used Cd|Weapon Desc|Status|Status Desc |Crm Cd 1|Crm Cd 2|LOCATION           |LAT    |LON      |\n",
      "+---------+----------+----------+--------+----+-----------+-----------+--------+------+----------------------------------------+-------------------+--------+--------+------------+---------+--------------------------------------------+--------------+-----------+------+------------+--------+--------+-------------------+-------+---------+\n",
      "|190326475|2020-03-01|2020-03-01|2130    |7   |WILSHIRE   |784        |1       |510   |VEHICLE - STOLEN                        |null               |null    |M       |O           |101      |STREET                                      |null          |null       |AA    |Adult Arrest|510     |998     |1900 S LONGWOOD AV |34.0375|-118.3506|\n",
      "|200106753|2020-02-09|2020-02-08|1800    |1   |CENTRAL    |182        |1       |330   |BURGLARY FROM VEHICLE                   |1822 1402 0344     |47      |M       |O           |128      |BUS STOP/LAYOVER (ALSO QUERY 124)           |null          |null       |IC    |Invest Cont |330     |998     |1000 S FLOWER ST   |34.0444|-118.2628|\n",
      "|200320258|2020-11-11|2020-11-04|1700    |3   |SOUTHWEST  |356        |1       |480   |BIKE - STOLEN                           |0344 1251          |19      |X       |X           |502      |MULTI-UNIT DWELLING (APARTMENT, DUPLEX, ETC)|null          |null       |IC    |Invest Cont |480     |null    |1400 W 37TH ST     |34.021 |-118.3002|\n",
      "|200907217|2023-05-10|2020-03-10|2037    |9   |VAN NUYS   |964        |1       |343   |SHOPLIFTING-GRAND THEFT ($950.01 & OVER)|0325 1501          |19      |M       |O           |405      |CLOTHING STORE                              |null          |null       |IC    |Invest Cont |343     |null    |14000 RIVERSIDE DR |34.1576|-118.4387|\n",
      "|200412582|2020-09-09|2020-09-09|630     |4   |HOLLENBECK |413        |1       |510   |VEHICLE - STOLEN                        |null               |null    |null    |null        |101      |STREET                                      |null          |null       |IC    |Invest Cont |510     |null    |200 E AVENUE 28    |34.082 |-118.213 |\n",
      "|200209713|2020-05-03|2020-05-02|1800    |2   |RAMPART    |245        |1       |510   |VEHICLE - STOLEN                        |null               |null    |null    |null        |101      |STREET                                      |null          |null       |IC    |Invest Cont |510     |null    |2500 W 4TH ST      |34.0642|-118.2771|\n",
      "|200200759|2020-07-07|2020-07-07|1340    |2   |RAMPART    |265        |1       |648   |ARSON                                   |0329 1402 2004 1501|null    |X       |X           |101      |STREET                                      |null          |null       |IC    |Invest Cont |648     |998     |JAMES M WOOD       |34.0536|-118.2788|\n",
      "|201308739|2020-03-27|2020-03-27|1210    |13  |NEWTON     |1333       |1       |510   |VEHICLE - STOLEN                        |null               |null    |null    |null        |101      |STREET                                      |null          |null       |IC    |Invest Cont |510     |null    |3200 S SAN PEDRO ST|34.017 |-118.2643|\n",
      "|201112065|2020-07-31|2020-07-30|2030    |11  |NORTHEAST  |1161       |1       |510   |VEHICLE - STOLEN                        |null               |null    |null    |null        |101      |STREET                                      |null          |null       |AA    |Adult Arrest|510     |null    |KENMORE ST         |34.0953|-118.2974|\n",
      "|200121929|2020-12-04|2020-12-03|2300    |1   |CENTRAL    |105        |1       |510   |VEHICLE - STOLEN                        |null               |null    |null    |null        |101      |STREET                                      |null          |null       |IC    |Invest Cont |510     |null    |400 SOLANO AV      |34.071 |-118.2302|\n",
      "|201215394|2020-06-26|2020-06-25|2200    |12  |77TH STREET|1259       |1       |510   |VEHICLE - STOLEN                        |null               |null    |null    |null        |101      |STREET                                      |null          |null       |IC    |Invest Cont |510     |null    |FLORENCE           |33.9747|-118.2587|\n",
      "|200406391|2020-03-02|2020-03-01|1430    |4   |HOLLENBECK |407        |1       |310   |BURGLARY                                |0344 1607          |27      |M       |W           |221      |PUBLIC STORAGE                              |null          |null       |IC    |Invest Cont |310     |null    |4500 HUNTINGTON DR |34.0881|-118.1877|\n",
      "|200114396|2020-07-06|2020-07-04|100     |1   |CENTRAL    |157        |1       |510   |VEHICLE - STOLEN                        |null               |null    |null    |null        |101      |STREET                                      |null          |null       |IC    |Invest Cont |510     |null    |6TH ST             |34.0423|-118.2453|\n",
      "|200912561|2020-07-20|2020-07-20|700     |9   |VAN NUYS   |937        |1       |510   |VEHICLE - STOLEN                        |null               |null    |null    |null        |101      |STREET                                      |null          |null       |IC    |Invest Cont |510     |null    |BESSEMER           |34.1812|-118.4356|\n",
      "|200207955|2020-03-19|2020-03-19|130     |2   |RAMPART    |236        |1       |510   |VEHICLE - STOLEN                        |null               |null    |null    |null        |101      |STREET                                      |null          |null       |IC    |Invest Cont |510     |null    |1900 MIRAMAR ST    |34.0632|-118.2693|\n",
      "|200112598|2020-06-01|2020-05-30|30      |1   |CENTRAL    |153        |1       |310   |BURGLARY                                |1609 0344          |null    |M       |W           |201      |JEWELRY STORE                               |null          |null       |AA    |Adult Arrest|310     |null    |600 S BROADWAY     |34.0467|-118.252 |\n",
      "|200905707|2020-02-08|2020-02-07|2000    |9   |VAN NUYS   |939        |1       |510   |VEHICLE - STOLEN                        |null               |null    |null    |null        |101      |STREET                                      |null          |null       |AO    |Adult Other |510     |null    |AETNA              |34.1803|-118.4204|\n",
      "|200215463|2020-09-26|2020-09-25|1900    |2   |RAMPART    |237        |1       |510   |VEHICLE - STOLEN                        |null               |null    |null    |null        |101      |STREET                                      |null          |null       |IC    |Invest Cont |510     |null    |1600 W COURT ST    |34.0668|-118.2627|\n",
      "|200308100|2020-03-07|2020-03-06|2200    |3   |SOUTHWEST  |317        |1       |510   |VEHICLE - STOLEN                        |null               |null    |null    |null        |101      |STREET                                      |null          |null       |IC    |Invest Cont |510     |null    |VERMONT            |34.0344|-118.2915|\n",
      "|200606074|2020-02-12|2020-02-07|1615    |6   |HOLLYWOOD  |646        |2       |805   |PIMPING                                 |1300 1402          |23      |F       |H           |101      |STREET                                      |null          |null       |AA    |Adult Arrest|805     |998     |HOLLYWOOD          |34.1016|-118.337 |\n",
      "+---------+----------+----------+--------+----+-----------+-----------+--------+------+----------------------------------------+-------------------+--------+--------+------------+---------+--------------------------------------------+--------------+-----------+------+------------+--------+--------+-------------------+-------+---------+\n",
      "only showing top 20 rows\n",
      "\n"
     ]
    }
   ],
   "source": [
    "from pyspark.sql.functions import when, col\n",
    "\n",
    "# Replace Invalid Ages with null\n",
    "df = df.withColumn(\n",
    "    \"Vict Age\",\n",
    "    when((col(\"Vict Age\") <= 0) | (col(\"Vict Age\") > 110), None).otherwise(col(\"Vict Age\"))\n",
    ")\n",
    "df.show(n=20, truncate=False)"
   ]
  },
  {
   "cell_type": "markdown",
   "id": "671b416f-1e50-4777-b593-2900d5f05f53",
   "metadata": {},
   "source": [
    "<span style=\"font-size:20px\"><b>Standardizing 'Vict Sex' Column</b> <br>\n",
    "This cell cleans and standardizes the `Vict Sex` column by :<br>\n",
    "- Trimming leading and trailing whitespaces<br>\n",
    "- Converting all values to uppercase<br>\n",
    "- Replacing invalid or ambiguous entries (`null`, empty string, `-`, and `H`) with `\"X\"` to represent unknown or unspecified gender<br>\n",
    "\n",
    "This ensures consistency and reliability in gender-related analyses.</span></span>"
   ]
  },
  {
   "cell_type": "code",
   "execution_count": 9,
   "id": "2603bb52-7fd4-4195-addf-256a829874cf",
   "metadata": {},
   "outputs": [
    {
     "name": "stdout",
     "output_type": "stream",
     "text": [
      "+---------+----------+----------+--------+----+-----------+-----------+--------+------+----------------------------------------+-------------------+--------+--------+------------+---------+--------------------------------------------+--------------+-----------+------+------------+--------+--------+-------------------+-------+---------+\n",
      "|DR_NO    |Date Rptd |DATE OCC  |TIME OCC|AREA|AREA NAME  |Rpt Dist No|Part 1-2|Crm Cd|Crm Cd Desc                             |Mocodes            |Vict Age|Vict Sex|Vict Descent|Premis Cd|Premis Desc                                 |Weapon Used Cd|Weapon Desc|Status|Status Desc |Crm Cd 1|Crm Cd 2|LOCATION           |LAT    |LON      |\n",
      "+---------+----------+----------+--------+----+-----------+-----------+--------+------+----------------------------------------+-------------------+--------+--------+------------+---------+--------------------------------------------+--------------+-----------+------+------------+--------+--------+-------------------+-------+---------+\n",
      "|190326475|2020-03-01|2020-03-01|2130    |7   |WILSHIRE   |784        |1       |510   |VEHICLE - STOLEN                        |null               |null    |M       |O           |101      |STREET                                      |null          |null       |AA    |Adult Arrest|510     |998     |1900 S LONGWOOD AV |34.0375|-118.3506|\n",
      "|200106753|2020-02-09|2020-02-08|1800    |1   |CENTRAL    |182        |1       |330   |BURGLARY FROM VEHICLE                   |1822 1402 0344     |47      |M       |O           |128      |BUS STOP/LAYOVER (ALSO QUERY 124)           |null          |null       |IC    |Invest Cont |330     |998     |1000 S FLOWER ST   |34.0444|-118.2628|\n",
      "|200320258|2020-11-11|2020-11-04|1700    |3   |SOUTHWEST  |356        |1       |480   |BIKE - STOLEN                           |0344 1251          |19      |X       |X           |502      |MULTI-UNIT DWELLING (APARTMENT, DUPLEX, ETC)|null          |null       |IC    |Invest Cont |480     |null    |1400 W 37TH ST     |34.021 |-118.3002|\n",
      "|200907217|2023-05-10|2020-03-10|2037    |9   |VAN NUYS   |964        |1       |343   |SHOPLIFTING-GRAND THEFT ($950.01 & OVER)|0325 1501          |19      |M       |O           |405      |CLOTHING STORE                              |null          |null       |IC    |Invest Cont |343     |null    |14000 RIVERSIDE DR |34.1576|-118.4387|\n",
      "|200412582|2020-09-09|2020-09-09|630     |4   |HOLLENBECK |413        |1       |510   |VEHICLE - STOLEN                        |null               |null    |X       |null        |101      |STREET                                      |null          |null       |IC    |Invest Cont |510     |null    |200 E AVENUE 28    |34.082 |-118.213 |\n",
      "|200209713|2020-05-03|2020-05-02|1800    |2   |RAMPART    |245        |1       |510   |VEHICLE - STOLEN                        |null               |null    |X       |null        |101      |STREET                                      |null          |null       |IC    |Invest Cont |510     |null    |2500 W 4TH ST      |34.0642|-118.2771|\n",
      "|200200759|2020-07-07|2020-07-07|1340    |2   |RAMPART    |265        |1       |648   |ARSON                                   |0329 1402 2004 1501|null    |X       |X           |101      |STREET                                      |null          |null       |IC    |Invest Cont |648     |998     |JAMES M WOOD       |34.0536|-118.2788|\n",
      "|201308739|2020-03-27|2020-03-27|1210    |13  |NEWTON     |1333       |1       |510   |VEHICLE - STOLEN                        |null               |null    |X       |null        |101      |STREET                                      |null          |null       |IC    |Invest Cont |510     |null    |3200 S SAN PEDRO ST|34.017 |-118.2643|\n",
      "|201112065|2020-07-31|2020-07-30|2030    |11  |NORTHEAST  |1161       |1       |510   |VEHICLE - STOLEN                        |null               |null    |X       |null        |101      |STREET                                      |null          |null       |AA    |Adult Arrest|510     |null    |KENMORE ST         |34.0953|-118.2974|\n",
      "|200121929|2020-12-04|2020-12-03|2300    |1   |CENTRAL    |105        |1       |510   |VEHICLE - STOLEN                        |null               |null    |X       |null        |101      |STREET                                      |null          |null       |IC    |Invest Cont |510     |null    |400 SOLANO AV      |34.071 |-118.2302|\n",
      "|201215394|2020-06-26|2020-06-25|2200    |12  |77TH STREET|1259       |1       |510   |VEHICLE - STOLEN                        |null               |null    |X       |null        |101      |STREET                                      |null          |null       |IC    |Invest Cont |510     |null    |FLORENCE           |33.9747|-118.2587|\n",
      "|200406391|2020-03-02|2020-03-01|1430    |4   |HOLLENBECK |407        |1       |310   |BURGLARY                                |0344 1607          |27      |M       |W           |221      |PUBLIC STORAGE                              |null          |null       |IC    |Invest Cont |310     |null    |4500 HUNTINGTON DR |34.0881|-118.1877|\n",
      "|200114396|2020-07-06|2020-07-04|100     |1   |CENTRAL    |157        |1       |510   |VEHICLE - STOLEN                        |null               |null    |X       |null        |101      |STREET                                      |null          |null       |IC    |Invest Cont |510     |null    |6TH ST             |34.0423|-118.2453|\n",
      "|200912561|2020-07-20|2020-07-20|700     |9   |VAN NUYS   |937        |1       |510   |VEHICLE - STOLEN                        |null               |null    |X       |null        |101      |STREET                                      |null          |null       |IC    |Invest Cont |510     |null    |BESSEMER           |34.1812|-118.4356|\n",
      "|200207955|2020-03-19|2020-03-19|130     |2   |RAMPART    |236        |1       |510   |VEHICLE - STOLEN                        |null               |null    |X       |null        |101      |STREET                                      |null          |null       |IC    |Invest Cont |510     |null    |1900 MIRAMAR ST    |34.0632|-118.2693|\n",
      "|200112598|2020-06-01|2020-05-30|30      |1   |CENTRAL    |153        |1       |310   |BURGLARY                                |1609 0344          |null    |M       |W           |201      |JEWELRY STORE                               |null          |null       |AA    |Adult Arrest|310     |null    |600 S BROADWAY     |34.0467|-118.252 |\n",
      "|200905707|2020-02-08|2020-02-07|2000    |9   |VAN NUYS   |939        |1       |510   |VEHICLE - STOLEN                        |null               |null    |X       |null        |101      |STREET                                      |null          |null       |AO    |Adult Other |510     |null    |AETNA              |34.1803|-118.4204|\n",
      "|200215463|2020-09-26|2020-09-25|1900    |2   |RAMPART    |237        |1       |510   |VEHICLE - STOLEN                        |null               |null    |X       |null        |101      |STREET                                      |null          |null       |IC    |Invest Cont |510     |null    |1600 W COURT ST    |34.0668|-118.2627|\n",
      "|200308100|2020-03-07|2020-03-06|2200    |3   |SOUTHWEST  |317        |1       |510   |VEHICLE - STOLEN                        |null               |null    |X       |null        |101      |STREET                                      |null          |null       |IC    |Invest Cont |510     |null    |VERMONT            |34.0344|-118.2915|\n",
      "|200606074|2020-02-12|2020-02-07|1615    |6   |HOLLYWOOD  |646        |2       |805   |PIMPING                                 |1300 1402          |23      |F       |H           |101      |STREET                                      |null          |null       |AA    |Adult Arrest|805     |998     |HOLLYWOOD          |34.1016|-118.337 |\n",
      "+---------+----------+----------+--------+----+-----------+-----------+--------+------+----------------------------------------+-------------------+--------+--------+------------+---------+--------------------------------------------+--------------+-----------+------+------------+--------+--------+-------------------+-------+---------+\n",
      "only showing top 20 rows\n",
      "\n"
     ]
    },
    {
     "data": {
      "text/plain": [
       "1005199"
      ]
     },
     "execution_count": 9,
     "metadata": {},
     "output_type": "execute_result"
    }
   ],
   "source": [
    "from pyspark.sql.functions import col, when, trim, upper\n",
    "# Vict Sex: Trims leading/trailing spaces, Converts to uppercase for consistency, Converts all of the following to \"X\": null, empty string \"\", dash \"-\", invalid code \"H\"\n",
    "\n",
    "df = df.withColumn(\n",
    "    \"Vict Sex\",\n",
    "    when(\n",
    "        (col(\"Vict Sex\").isNull()) |\n",
    "        (trim(col(\"Vict Sex\")) == \"\") |\n",
    "        (upper(trim(col(\"Vict Sex\"))).isin(\"-\", \"H\")),\n",
    "        \"X\"\n",
    "    ).otherwise(upper(trim(col(\"Vict Sex\"))))\n",
    ")\n",
    "df.show(n=20, truncate=False)\n",
    "df.count()"
   ]
  },
  {
   "cell_type": "code",
   "execution_count": 68,
   "id": "723ea7ea-28a8-4354-a9ee-c40dc91d3756",
   "metadata": {},
   "outputs": [
    {
     "name": "stdout",
     "output_type": "stream",
     "text": [
      "Number of victims with Vict Sex = 'X': 242682\n"
     ]
    }
   ],
   "source": [
    "from pyspark.sql.functions import col\n",
    "\n",
    "vict_sex_x_count = df.filter(col(\"Vict Sex\") == \"X\").count()\n",
    "print(f\"Number of victims with Vict Sex = 'X': {vict_sex_x_count}\")\n"
   ]
  },
  {
   "cell_type": "markdown",
   "id": "1c2be10f-8ad2-4398-89f6-d1370a90a74d",
   "metadata": {},
   "source": [
    "<span style=\"font-size:20px\"><b>Standardizing 'Vict Descent' Column</b> <br>\n",
    "This cell cleans the `Vict Descent` column by:<br>\n",
    "- Trimming whitespaces<br>\n",
    "- Converting all values to uppercase for consistency<br>\n",
    "- Replacing missing or invalid entries (`null`, empty strings, and `-`) with `\"X\"` to indicate unknown descent<br>\n",
    "\n",
    "This ensures the descent data is standardized and ready for accurate grouping and analysis.</span></span>"
   ]
  },
  {
   "cell_type": "code",
   "execution_count": 10,
   "id": "89f2c76c-c4aa-44c5-8ecf-c10c0256e9b0",
   "metadata": {},
   "outputs": [
    {
     "name": "stdout",
     "output_type": "stream",
     "text": [
      "+------------+\n",
      "|Vict Descent|\n",
      "+------------+\n",
      "|           K|\n",
      "|           F|\n",
      "|           B|\n",
      "|           L|\n",
      "|           V|\n",
      "|           U|\n",
      "|           O|\n",
      "|           D|\n",
      "|           C|\n",
      "|           J|\n",
      "|           Z|\n",
      "|           A|\n",
      "|           X|\n",
      "|           W|\n",
      "|           S|\n",
      "|           G|\n",
      "|           I|\n",
      "|           P|\n",
      "|           H|\n",
      "+------------+\n",
      "\n",
      "+---------+----------+----------+--------+----+-----------+-----------+--------+------+----------------------------------------+-------------------+--------+--------+------------+---------+--------------------------------------------+--------------+-----------+------+------------+--------+--------+-------------------+-------+---------+\n",
      "|DR_NO    |Date Rptd |DATE OCC  |TIME OCC|AREA|AREA NAME  |Rpt Dist No|Part 1-2|Crm Cd|Crm Cd Desc                             |Mocodes            |Vict Age|Vict Sex|Vict Descent|Premis Cd|Premis Desc                                 |Weapon Used Cd|Weapon Desc|Status|Status Desc |Crm Cd 1|Crm Cd 2|LOCATION           |LAT    |LON      |\n",
      "+---------+----------+----------+--------+----+-----------+-----------+--------+------+----------------------------------------+-------------------+--------+--------+------------+---------+--------------------------------------------+--------------+-----------+------+------------+--------+--------+-------------------+-------+---------+\n",
      "|190326475|2020-03-01|2020-03-01|2130    |7   |WILSHIRE   |784        |1       |510   |VEHICLE - STOLEN                        |null               |null    |M       |O           |101      |STREET                                      |null          |null       |AA    |Adult Arrest|510     |998     |1900 S LONGWOOD AV |34.0375|-118.3506|\n",
      "|200106753|2020-02-09|2020-02-08|1800    |1   |CENTRAL    |182        |1       |330   |BURGLARY FROM VEHICLE                   |1822 1402 0344     |47      |M       |O           |128      |BUS STOP/LAYOVER (ALSO QUERY 124)           |null          |null       |IC    |Invest Cont |330     |998     |1000 S FLOWER ST   |34.0444|-118.2628|\n",
      "|200320258|2020-11-11|2020-11-04|1700    |3   |SOUTHWEST  |356        |1       |480   |BIKE - STOLEN                           |0344 1251          |19      |X       |X           |502      |MULTI-UNIT DWELLING (APARTMENT, DUPLEX, ETC)|null          |null       |IC    |Invest Cont |480     |null    |1400 W 37TH ST     |34.021 |-118.3002|\n",
      "|200907217|2023-05-10|2020-03-10|2037    |9   |VAN NUYS   |964        |1       |343   |SHOPLIFTING-GRAND THEFT ($950.01 & OVER)|0325 1501          |19      |M       |O           |405      |CLOTHING STORE                              |null          |null       |IC    |Invest Cont |343     |null    |14000 RIVERSIDE DR |34.1576|-118.4387|\n",
      "|200412582|2020-09-09|2020-09-09|630     |4   |HOLLENBECK |413        |1       |510   |VEHICLE - STOLEN                        |null               |null    |X       |X           |101      |STREET                                      |null          |null       |IC    |Invest Cont |510     |null    |200 E AVENUE 28    |34.082 |-118.213 |\n",
      "|200209713|2020-05-03|2020-05-02|1800    |2   |RAMPART    |245        |1       |510   |VEHICLE - STOLEN                        |null               |null    |X       |X           |101      |STREET                                      |null          |null       |IC    |Invest Cont |510     |null    |2500 W 4TH ST      |34.0642|-118.2771|\n",
      "|200200759|2020-07-07|2020-07-07|1340    |2   |RAMPART    |265        |1       |648   |ARSON                                   |0329 1402 2004 1501|null    |X       |X           |101      |STREET                                      |null          |null       |IC    |Invest Cont |648     |998     |JAMES M WOOD       |34.0536|-118.2788|\n",
      "|201308739|2020-03-27|2020-03-27|1210    |13  |NEWTON     |1333       |1       |510   |VEHICLE - STOLEN                        |null               |null    |X       |X           |101      |STREET                                      |null          |null       |IC    |Invest Cont |510     |null    |3200 S SAN PEDRO ST|34.017 |-118.2643|\n",
      "|201112065|2020-07-31|2020-07-30|2030    |11  |NORTHEAST  |1161       |1       |510   |VEHICLE - STOLEN                        |null               |null    |X       |X           |101      |STREET                                      |null          |null       |AA    |Adult Arrest|510     |null    |KENMORE ST         |34.0953|-118.2974|\n",
      "|200121929|2020-12-04|2020-12-03|2300    |1   |CENTRAL    |105        |1       |510   |VEHICLE - STOLEN                        |null               |null    |X       |X           |101      |STREET                                      |null          |null       |IC    |Invest Cont |510     |null    |400 SOLANO AV      |34.071 |-118.2302|\n",
      "|201215394|2020-06-26|2020-06-25|2200    |12  |77TH STREET|1259       |1       |510   |VEHICLE - STOLEN                        |null               |null    |X       |X           |101      |STREET                                      |null          |null       |IC    |Invest Cont |510     |null    |FLORENCE           |33.9747|-118.2587|\n",
      "|200406391|2020-03-02|2020-03-01|1430    |4   |HOLLENBECK |407        |1       |310   |BURGLARY                                |0344 1607          |27      |M       |W           |221      |PUBLIC STORAGE                              |null          |null       |IC    |Invest Cont |310     |null    |4500 HUNTINGTON DR |34.0881|-118.1877|\n",
      "|200114396|2020-07-06|2020-07-04|100     |1   |CENTRAL    |157        |1       |510   |VEHICLE - STOLEN                        |null               |null    |X       |X           |101      |STREET                                      |null          |null       |IC    |Invest Cont |510     |null    |6TH ST             |34.0423|-118.2453|\n",
      "|200912561|2020-07-20|2020-07-20|700     |9   |VAN NUYS   |937        |1       |510   |VEHICLE - STOLEN                        |null               |null    |X       |X           |101      |STREET                                      |null          |null       |IC    |Invest Cont |510     |null    |BESSEMER           |34.1812|-118.4356|\n",
      "|200207955|2020-03-19|2020-03-19|130     |2   |RAMPART    |236        |1       |510   |VEHICLE - STOLEN                        |null               |null    |X       |X           |101      |STREET                                      |null          |null       |IC    |Invest Cont |510     |null    |1900 MIRAMAR ST    |34.0632|-118.2693|\n",
      "|200112598|2020-06-01|2020-05-30|30      |1   |CENTRAL    |153        |1       |310   |BURGLARY                                |1609 0344          |null    |M       |W           |201      |JEWELRY STORE                               |null          |null       |AA    |Adult Arrest|310     |null    |600 S BROADWAY     |34.0467|-118.252 |\n",
      "|200905707|2020-02-08|2020-02-07|2000    |9   |VAN NUYS   |939        |1       |510   |VEHICLE - STOLEN                        |null               |null    |X       |X           |101      |STREET                                      |null          |null       |AO    |Adult Other |510     |null    |AETNA              |34.1803|-118.4204|\n",
      "|200215463|2020-09-26|2020-09-25|1900    |2   |RAMPART    |237        |1       |510   |VEHICLE - STOLEN                        |null               |null    |X       |X           |101      |STREET                                      |null          |null       |IC    |Invest Cont |510     |null    |1600 W COURT ST    |34.0668|-118.2627|\n",
      "|200308100|2020-03-07|2020-03-06|2200    |3   |SOUTHWEST  |317        |1       |510   |VEHICLE - STOLEN                        |null               |null    |X       |X           |101      |STREET                                      |null          |null       |IC    |Invest Cont |510     |null    |VERMONT            |34.0344|-118.2915|\n",
      "|200606074|2020-02-12|2020-02-07|1615    |6   |HOLLYWOOD  |646        |2       |805   |PIMPING                                 |1300 1402          |23      |F       |H           |101      |STREET                                      |null          |null       |AA    |Adult Arrest|805     |998     |HOLLYWOOD          |34.1016|-118.337 |\n",
      "+---------+----------+----------+--------+----+-----------+-----------+--------+------+----------------------------------------+-------------------+--------+--------+------------+---------+--------------------------------------------+--------------+-----------+------+------------+--------+--------+-------------------+-------+---------+\n",
      "only showing top 20 rows\n",
      "\n"
     ]
    }
   ],
   "source": [
    "from pyspark.sql.functions import col, when, trim, upper\n",
    "\n",
    "# filling and replacing missing values (null and '-') with 'X' (unknown)\n",
    "df = df.withColumn(\n",
    "    \"Vict Descent\",\n",
    "    when(\n",
    "        (col(\"Vict Descent\").isNull()) |\n",
    "        (trim(col(\"Vict Descent\")) == \"\") |\n",
    "        (trim(col(\"Vict Descent\")) == \"-\"),\n",
    "        \"X\"\n",
    "    ).otherwise(upper(trim(col(\"Vict Descent\"))))\n",
    ")\n",
    "df.select(\"Vict Descent\").distinct().show()\n",
    "df.show(n=20, truncate=False)\n"
   ]
  },
  {
   "cell_type": "code",
   "execution_count": 18,
   "id": "6d0faddf-8661-496a-8f49-0de1375127a6",
   "metadata": {},
   "outputs": [
    {
     "name": "stdout",
     "output_type": "stream",
     "text": [
      "+------------+\n",
      "|Vict Descent|\n",
      "+------------+\n",
      "+------------+\n",
      "\n"
     ]
    }
   ],
   "source": [
    "df.filter(\n",
    "    (col(\"Vict Descent\").isNull()) | \n",
    "    (trim(col(\"Vict Descent\")) == \"\") | \n",
    "    (trim(col(\"Vict Descent\")) == \"-\")\n",
    ").select(\"Vict Descent\").show(truncate=False)"
   ]
  },
  {
   "cell_type": "markdown",
   "id": "19fd71a0-ac04-4907-8732-a582c2dbfd21",
   "metadata": {},
   "source": [
    "<span style=\"font-size:20px\"><b>Handling Missing 'Premis Cd' Values</b> <br>\n",
    "<span style=\"font-size:18px\">This cell replaces missing or `null` values in the `Premis Cd` column with `0`. Using `0` as a placeholder allows the data to remain numeric while indicating the absence of a valid premise code.</span></span>"
   ]
  },
  {
   "cell_type": "code",
   "execution_count": 11,
   "id": "cb454754-57b2-44b4-8ef0-1d105a04455a",
   "metadata": {},
   "outputs": [
    {
     "data": {
      "text/plain": [
       "16"
      ]
     },
     "execution_count": 11,
     "metadata": {},
     "output_type": "execute_result"
    }
   ],
   "source": [
    "from pyspark.sql.functions import when, col\n",
    "\n",
    "# Fill missing or null Premis Cd with 0\n",
    "df = df.withColumn(\n",
    "    \"Premis Cd\",\n",
    "    when(col(\"Premis Cd\").isNull(), 0).otherwise(col(\"Premis Cd\"))\n",
    ")\n",
    "df.select(\"Premis Cd\").filter(col(\"Premis Cd\") == 0).count()"
   ]
  },
  {
   "cell_type": "markdown",
   "id": "355025a8-611b-4dab-bc4f-c73c78d57dbd",
   "metadata": {},
   "source": [
    "<span style=\"font-size:20px\"><b>Standardizing 'Premis Desc' Column</b> <br>\n",
    "<span style=\"font-size:20px\">This cell cleans the `Premis Desc` column by:<br>\n",
    "- Trimming leading and trailing whitespaces<br>\n",
    "- Converting all text to uppercase for consistency<br>\n",
    "- Replacing missing or empty values with `\"UNKNOWN PREMISE\"` to clearly indicate unknown or unspecified locations<br>\n",
    "\n",
    "This improves data quality and prepares the column for reliable analysis.</span></span>"
   ]
  },
  {
   "cell_type": "code",
   "execution_count": 12,
   "id": "03001760-af2f-4282-80bf-0243a9927540",
   "metadata": {},
   "outputs": [
    {
     "data": {
      "text/plain": [
       "588"
      ]
     },
     "execution_count": 12,
     "metadata": {},
     "output_type": "execute_result"
    }
   ],
   "source": [
    "from pyspark.sql.functions import trim, upper, when\n",
    "\n",
    "# Clean Premis Desc, Trim leading/trailing whitespace, Convert to uppercase for consistency, Replace null or blank descriptions with a placeholder like \"UNKNOWN PREMISE\"\n",
    "\n",
    "df = df.withColumn(\n",
    "    \"Premis Desc\",\n",
    "    when(\n",
    "        (col(\"Premis Desc\").isNull()) | (trim(col(\"Premis Desc\")) == \"\"),\n",
    "        \"UNKNOWN PREMISE\"\n",
    "    ).otherwise(upper(trim(col(\"Premis Desc\"))))\n",
    ")\n",
    "df.select(\"Premis Desc\").filter(col(\"Premis Desc\") == \"UNKNOWN PREMISE\").count()"
   ]
  },
  {
   "cell_type": "code",
   "execution_count": 22,
   "id": "9b222a0d-0cb4-4247-bab7-d4a73ce77919",
   "metadata": {
    "scrolled": true
   },
   "outputs": [
    {
     "name": "stdout",
     "output_type": "stream",
     "text": [
      "+---------+----------+----------+--------+----+-----------+-----------+--------+------+----------------------------------------+-------------------+--------+--------+------------+---------+--------------------------------------------+--------------+-----------+------+------------+--------+--------+-------------------+-------+---------+\n",
      "|DR_NO    |Date Rptd |DATE OCC  |TIME OCC|AREA|AREA NAME  |Rpt Dist No|Part 1-2|Crm Cd|Crm Cd Desc                             |Mocodes            |Vict Age|Vict Sex|Vict Descent|Premis Cd|Premis Desc                                 |Weapon Used Cd|Weapon Desc|Status|Status Desc |Crm Cd 1|Crm Cd 2|LOCATION           |LAT    |LON      |\n",
      "+---------+----------+----------+--------+----+-----------+-----------+--------+------+----------------------------------------+-------------------+--------+--------+------------+---------+--------------------------------------------+--------------+-----------+------+------------+--------+--------+-------------------+-------+---------+\n",
      "|190326475|2020-03-01|2020-03-01|2130    |7   |WILSHIRE   |784        |1       |510   |VEHICLE - STOLEN                        |null               |null    |M       |O           |101      |STREET                                      |null          |null       |AA    |Adult Arrest|510     |998     |1900 S LONGWOOD AV |34.0375|-118.3506|\n",
      "|200106753|2020-02-09|2020-02-08|1800    |1   |CENTRAL    |182        |1       |330   |BURGLARY FROM VEHICLE                   |1822 1402 0344     |47      |M       |O           |128      |BUS STOP/LAYOVER (ALSO QUERY 124)           |null          |null       |IC    |Invest Cont |330     |998     |1000 S FLOWER ST   |34.0444|-118.2628|\n",
      "|200320258|2020-11-11|2020-11-04|1700    |3   |SOUTHWEST  |356        |1       |480   |BIKE - STOLEN                           |0344 1251          |19      |X       |X           |502      |MULTI-UNIT DWELLING (APARTMENT, DUPLEX, ETC)|null          |null       |IC    |Invest Cont |480     |null    |1400 W 37TH ST     |34.021 |-118.3002|\n",
      "|200907217|2023-05-10|2020-03-10|2037    |9   |VAN NUYS   |964        |1       |343   |SHOPLIFTING-GRAND THEFT ($950.01 & OVER)|0325 1501          |19      |M       |O           |405      |CLOTHING STORE                              |null          |null       |IC    |Invest Cont |343     |null    |14000 RIVERSIDE DR |34.1576|-118.4387|\n",
      "|200412582|2020-09-09|2020-09-09|630     |4   |HOLLENBECK |413        |1       |510   |VEHICLE - STOLEN                        |null               |null    |X       |X           |101      |STREET                                      |null          |null       |IC    |Invest Cont |510     |null    |200 E AVENUE 28    |34.082 |-118.213 |\n",
      "|200209713|2020-05-03|2020-05-02|1800    |2   |RAMPART    |245        |1       |510   |VEHICLE - STOLEN                        |null               |null    |X       |X           |101      |STREET                                      |null          |null       |IC    |Invest Cont |510     |null    |2500 W 4TH ST      |34.0642|-118.2771|\n",
      "|200200759|2020-07-07|2020-07-07|1340    |2   |RAMPART    |265        |1       |648   |ARSON                                   |0329 1402 2004 1501|null    |X       |X           |101      |STREET                                      |null          |null       |IC    |Invest Cont |648     |998     |JAMES M WOOD       |34.0536|-118.2788|\n",
      "|201308739|2020-03-27|2020-03-27|1210    |13  |NEWTON     |1333       |1       |510   |VEHICLE - STOLEN                        |null               |null    |X       |X           |101      |STREET                                      |null          |null       |IC    |Invest Cont |510     |null    |3200 S SAN PEDRO ST|34.017 |-118.2643|\n",
      "|201112065|2020-07-31|2020-07-30|2030    |11  |NORTHEAST  |1161       |1       |510   |VEHICLE - STOLEN                        |null               |null    |X       |X           |101      |STREET                                      |null          |null       |AA    |Adult Arrest|510     |null    |KENMORE ST         |34.0953|-118.2974|\n",
      "|200121929|2020-12-04|2020-12-03|2300    |1   |CENTRAL    |105        |1       |510   |VEHICLE - STOLEN                        |null               |null    |X       |X           |101      |STREET                                      |null          |null       |IC    |Invest Cont |510     |null    |400 SOLANO AV      |34.071 |-118.2302|\n",
      "|201215394|2020-06-26|2020-06-25|2200    |12  |77TH STREET|1259       |1       |510   |VEHICLE - STOLEN                        |null               |null    |X       |X           |101      |STREET                                      |null          |null       |IC    |Invest Cont |510     |null    |FLORENCE           |33.9747|-118.2587|\n",
      "|200406391|2020-03-02|2020-03-01|1430    |4   |HOLLENBECK |407        |1       |310   |BURGLARY                                |0344 1607          |27      |M       |W           |221      |PUBLIC STORAGE                              |null          |null       |IC    |Invest Cont |310     |null    |4500 HUNTINGTON DR |34.0881|-118.1877|\n",
      "|200114396|2020-07-06|2020-07-04|100     |1   |CENTRAL    |157        |1       |510   |VEHICLE - STOLEN                        |null               |null    |X       |X           |101      |STREET                                      |null          |null       |IC    |Invest Cont |510     |null    |6TH ST             |34.0423|-118.2453|\n",
      "|200912561|2020-07-20|2020-07-20|700     |9   |VAN NUYS   |937        |1       |510   |VEHICLE - STOLEN                        |null               |null    |X       |X           |101      |STREET                                      |null          |null       |IC    |Invest Cont |510     |null    |BESSEMER           |34.1812|-118.4356|\n",
      "|200207955|2020-03-19|2020-03-19|130     |2   |RAMPART    |236        |1       |510   |VEHICLE - STOLEN                        |null               |null    |X       |X           |101      |STREET                                      |null          |null       |IC    |Invest Cont |510     |null    |1900 MIRAMAR ST    |34.0632|-118.2693|\n",
      "|200112598|2020-06-01|2020-05-30|30      |1   |CENTRAL    |153        |1       |310   |BURGLARY                                |1609 0344          |null    |M       |W           |201      |JEWELRY STORE                               |null          |null       |AA    |Adult Arrest|310     |null    |600 S BROADWAY     |34.0467|-118.252 |\n",
      "|200905707|2020-02-08|2020-02-07|2000    |9   |VAN NUYS   |939        |1       |510   |VEHICLE - STOLEN                        |null               |null    |X       |X           |101      |STREET                                      |null          |null       |AO    |Adult Other |510     |null    |AETNA              |34.1803|-118.4204|\n",
      "|200215463|2020-09-26|2020-09-25|1900    |2   |RAMPART    |237        |1       |510   |VEHICLE - STOLEN                        |null               |null    |X       |X           |101      |STREET                                      |null          |null       |IC    |Invest Cont |510     |null    |1600 W COURT ST    |34.0668|-118.2627|\n",
      "|200308100|2020-03-07|2020-03-06|2200    |3   |SOUTHWEST  |317        |1       |510   |VEHICLE - STOLEN                        |null               |null    |X       |X           |101      |STREET                                      |null          |null       |IC    |Invest Cont |510     |null    |VERMONT            |34.0344|-118.2915|\n",
      "|200606074|2020-02-12|2020-02-07|1615    |6   |HOLLYWOOD  |646        |2       |805   |PIMPING                                 |1300 1402          |23      |F       |H           |101      |STREET                                      |null          |null       |AA    |Adult Arrest|805     |998     |HOLLYWOOD          |34.1016|-118.337 |\n",
      "+---------+----------+----------+--------+----+-----------+-----------+--------+------+----------------------------------------+-------------------+--------+--------+------------+---------+--------------------------------------------+--------------+-----------+------+------------+--------+--------+-------------------+-------+---------+\n",
      "only showing top 20 rows\n",
      "\n"
     ]
    }
   ],
   "source": [
    "df.show(truncate=False)"
   ]
  },
  {
   "cell_type": "markdown",
   "id": "1f3a6478-60a5-4fc8-9f8e-fb37f16bc1cf",
   "metadata": {},
   "source": [
    "<span style=\"font-size:20px\"><b>Handling Missing 'Weapon Used Cd' Values</b> <br>\n",
    "<span style=\"font-size:18px\">This cell fills missing (`null`) values in the `Weapon Used Cd` column with `0`, indicating that no weapon code was provided. This helps maintain numerical consistency while clearly distinguishing unknown weapon entries.</span></span>"
   ]
  },
  {
   "cell_type": "code",
   "execution_count": 13,
   "id": "cb504a09-79d7-4b39-b9a9-dc0d39246083",
   "metadata": {},
   "outputs": [
    {
     "data": {
      "text/plain": [
       "0"
      ]
     },
     "execution_count": 13,
     "metadata": {},
     "output_type": "execute_result"
    }
   ],
   "source": [
    "from pyspark.sql.functions import when, col\n",
    "\n",
    "# Fill null Weapon Used Cd with 0 \n",
    "df = df.withColumn(\n",
    "    \"Weapon Used Cd\",\n",
    "    when(\n",
    "        col(\"Weapon Used Cd\").isNull(),  # If NULL\n",
    "        0                                # Set to 0\n",
    "    ).otherwise(\n",
    "        col(\"Weapon Used Cd\")             # Else keep existing int value\n",
    "    )\n",
    ")\n",
    "# Verify no nulls are left\n",
    "df.filter(col(\"Weapon Used Cd\").isNull()).count()\n"
   ]
  },
  {
   "cell_type": "markdown",
   "id": "ed9eed70-bb67-4a66-9d48-5709cccbfa31",
   "metadata": {},
   "source": [
    "<span style=\"font-size:20px\"><b>Standardizing 'Weapon Desc' Column</b> <br>\n",
    "<span style=\"font-size:20px\">This cell cleans the `Weapon Desc` column by:<br>\n",
    "- Replacing `null` or blank values with `\"NO WEAPON\"` to clearly indicate the absence of a weapon<br>\n",
    "- Trimming whitespace and converting valid entries to uppercase for consistency<br>\n",
    "\n",
    "This ensures uniform formatting and improves the accuracy of weapon-related analysis.</span></span>"
   ]
  },
  {
   "cell_type": "code",
   "execution_count": 14,
   "id": "34174877-b7da-4384-8ce5-2aa519edd429",
   "metadata": {},
   "outputs": [
    {
     "name": "stdout",
     "output_type": "stream",
     "text": [
      "+---------+----------+----------+--------+----+-----------+-----------+--------+------+----------------------------------------+-------------------+--------+--------+------------+---------+--------------------------------------------+--------------+-----------+------+------------+--------+--------+-------------------+-------+---------+\n",
      "|DR_NO    |Date Rptd |DATE OCC  |TIME OCC|AREA|AREA NAME  |Rpt Dist No|Part 1-2|Crm Cd|Crm Cd Desc                             |Mocodes            |Vict Age|Vict Sex|Vict Descent|Premis Cd|Premis Desc                                 |Weapon Used Cd|Weapon Desc|Status|Status Desc |Crm Cd 1|Crm Cd 2|LOCATION           |LAT    |LON      |\n",
      "+---------+----------+----------+--------+----+-----------+-----------+--------+------+----------------------------------------+-------------------+--------+--------+------------+---------+--------------------------------------------+--------------+-----------+------+------------+--------+--------+-------------------+-------+---------+\n",
      "|190326475|2020-03-01|2020-03-01|2130    |7   |WILSHIRE   |784        |1       |510   |VEHICLE - STOLEN                        |null               |null    |M       |O           |101      |STREET                                      |0             |NO WEAPON  |AA    |Adult Arrest|510     |998     |1900 S LONGWOOD AV |34.0375|-118.3506|\n",
      "|200106753|2020-02-09|2020-02-08|1800    |1   |CENTRAL    |182        |1       |330   |BURGLARY FROM VEHICLE                   |1822 1402 0344     |47      |M       |O           |128      |BUS STOP/LAYOVER (ALSO QUERY 124)           |0             |NO WEAPON  |IC    |Invest Cont |330     |998     |1000 S FLOWER ST   |34.0444|-118.2628|\n",
      "|200320258|2020-11-11|2020-11-04|1700    |3   |SOUTHWEST  |356        |1       |480   |BIKE - STOLEN                           |0344 1251          |19      |X       |X           |502      |MULTI-UNIT DWELLING (APARTMENT, DUPLEX, ETC)|0             |NO WEAPON  |IC    |Invest Cont |480     |null    |1400 W 37TH ST     |34.021 |-118.3002|\n",
      "|200907217|2023-05-10|2020-03-10|2037    |9   |VAN NUYS   |964        |1       |343   |SHOPLIFTING-GRAND THEFT ($950.01 & OVER)|0325 1501          |19      |M       |O           |405      |CLOTHING STORE                              |0             |NO WEAPON  |IC    |Invest Cont |343     |null    |14000 RIVERSIDE DR |34.1576|-118.4387|\n",
      "|200412582|2020-09-09|2020-09-09|630     |4   |HOLLENBECK |413        |1       |510   |VEHICLE - STOLEN                        |null               |null    |X       |X           |101      |STREET                                      |0             |NO WEAPON  |IC    |Invest Cont |510     |null    |200 E AVENUE 28    |34.082 |-118.213 |\n",
      "|200209713|2020-05-03|2020-05-02|1800    |2   |RAMPART    |245        |1       |510   |VEHICLE - STOLEN                        |null               |null    |X       |X           |101      |STREET                                      |0             |NO WEAPON  |IC    |Invest Cont |510     |null    |2500 W 4TH ST      |34.0642|-118.2771|\n",
      "|200200759|2020-07-07|2020-07-07|1340    |2   |RAMPART    |265        |1       |648   |ARSON                                   |0329 1402 2004 1501|null    |X       |X           |101      |STREET                                      |0             |NO WEAPON  |IC    |Invest Cont |648     |998     |JAMES M WOOD       |34.0536|-118.2788|\n",
      "|201308739|2020-03-27|2020-03-27|1210    |13  |NEWTON     |1333       |1       |510   |VEHICLE - STOLEN                        |null               |null    |X       |X           |101      |STREET                                      |0             |NO WEAPON  |IC    |Invest Cont |510     |null    |3200 S SAN PEDRO ST|34.017 |-118.2643|\n",
      "|201112065|2020-07-31|2020-07-30|2030    |11  |NORTHEAST  |1161       |1       |510   |VEHICLE - STOLEN                        |null               |null    |X       |X           |101      |STREET                                      |0             |NO WEAPON  |AA    |Adult Arrest|510     |null    |KENMORE ST         |34.0953|-118.2974|\n",
      "|200121929|2020-12-04|2020-12-03|2300    |1   |CENTRAL    |105        |1       |510   |VEHICLE - STOLEN                        |null               |null    |X       |X           |101      |STREET                                      |0             |NO WEAPON  |IC    |Invest Cont |510     |null    |400 SOLANO AV      |34.071 |-118.2302|\n",
      "|201215394|2020-06-26|2020-06-25|2200    |12  |77TH STREET|1259       |1       |510   |VEHICLE - STOLEN                        |null               |null    |X       |X           |101      |STREET                                      |0             |NO WEAPON  |IC    |Invest Cont |510     |null    |FLORENCE           |33.9747|-118.2587|\n",
      "|200406391|2020-03-02|2020-03-01|1430    |4   |HOLLENBECK |407        |1       |310   |BURGLARY                                |0344 1607          |27      |M       |W           |221      |PUBLIC STORAGE                              |0             |NO WEAPON  |IC    |Invest Cont |310     |null    |4500 HUNTINGTON DR |34.0881|-118.1877|\n",
      "|200114396|2020-07-06|2020-07-04|100     |1   |CENTRAL    |157        |1       |510   |VEHICLE - STOLEN                        |null               |null    |X       |X           |101      |STREET                                      |0             |NO WEAPON  |IC    |Invest Cont |510     |null    |6TH ST             |34.0423|-118.2453|\n",
      "|200912561|2020-07-20|2020-07-20|700     |9   |VAN NUYS   |937        |1       |510   |VEHICLE - STOLEN                        |null               |null    |X       |X           |101      |STREET                                      |0             |NO WEAPON  |IC    |Invest Cont |510     |null    |BESSEMER           |34.1812|-118.4356|\n",
      "|200207955|2020-03-19|2020-03-19|130     |2   |RAMPART    |236        |1       |510   |VEHICLE - STOLEN                        |null               |null    |X       |X           |101      |STREET                                      |0             |NO WEAPON  |IC    |Invest Cont |510     |null    |1900 MIRAMAR ST    |34.0632|-118.2693|\n",
      "|200112598|2020-06-01|2020-05-30|30      |1   |CENTRAL    |153        |1       |310   |BURGLARY                                |1609 0344          |null    |M       |W           |201      |JEWELRY STORE                               |0             |NO WEAPON  |AA    |Adult Arrest|310     |null    |600 S BROADWAY     |34.0467|-118.252 |\n",
      "|200905707|2020-02-08|2020-02-07|2000    |9   |VAN NUYS   |939        |1       |510   |VEHICLE - STOLEN                        |null               |null    |X       |X           |101      |STREET                                      |0             |NO WEAPON  |AO    |Adult Other |510     |null    |AETNA              |34.1803|-118.4204|\n",
      "|200215463|2020-09-26|2020-09-25|1900    |2   |RAMPART    |237        |1       |510   |VEHICLE - STOLEN                        |null               |null    |X       |X           |101      |STREET                                      |0             |NO WEAPON  |IC    |Invest Cont |510     |null    |1600 W COURT ST    |34.0668|-118.2627|\n",
      "|200308100|2020-03-07|2020-03-06|2200    |3   |SOUTHWEST  |317        |1       |510   |VEHICLE - STOLEN                        |null               |null    |X       |X           |101      |STREET                                      |0             |NO WEAPON  |IC    |Invest Cont |510     |null    |VERMONT            |34.0344|-118.2915|\n",
      "|200606074|2020-02-12|2020-02-07|1615    |6   |HOLLYWOOD  |646        |2       |805   |PIMPING                                 |1300 1402          |23      |F       |H           |101      |STREET                                      |0             |NO WEAPON  |AA    |Adult Arrest|805     |998     |HOLLYWOOD          |34.1016|-118.337 |\n",
      "+---------+----------+----------+--------+----+-----------+-----------+--------+------+----------------------------------------+-------------------+--------+--------+------------+---------+--------------------------------------------+--------------+-----------+------+------------+--------+--------+-------------------+-------+---------+\n",
      "only showing top 20 rows\n",
      "\n"
     ]
    }
   ],
   "source": [
    "from pyspark.sql.functions import when, col, trim, upper\n",
    "\n",
    "# Clean Weapon Desc,If blank or null Fill missing with 'NO WEAPON' Otherwise clean and standardize\n",
    "df = df.withColumn(\n",
    "    \"Weapon Desc\",\n",
    "    when(\n",
    "        (col(\"Weapon Desc\").isNull()) | (trim(col(\"Weapon Desc\")) == \"\"),\n",
    "        \"NO WEAPON\" \n",
    "    ).otherwise(\n",
    "        upper(trim(col(\"Weapon Desc\"))) \n",
    "    )\n",
    ")\n",
    "df.select(\"Weapon Desc\").filter(col(\"Weapon Desc\") == \"NO WEAPON\").count()\n",
    "df.show(truncate=False)"
   ]
  },
  {
   "cell_type": "code",
   "execution_count": 21,
   "id": "f3f011ab-be05-40fc-b9c9-6bc0a8a59c11",
   "metadata": {},
   "outputs": [],
   "source": [
    "# Save cleaned dataframe directly into HDFS\n",
    "\n",
    "df.coalesce(1) \\\n",
    "  .write \\\n",
    "  .mode(\"overwrite\") \\\n",
    "  .option(\"header\", \"true\") \\\n",
    "  .csv(\"hdfs:///crime_data/cleaned_crime_data\")"
   ]
  },
  {
   "cell_type": "code",
   "execution_count": null,
   "id": "2eb8fd34-4269-44e7-9a72-bd07910f1381",
   "metadata": {},
   "outputs": [],
   "source": []
  }
 ],
 "metadata": {
  "kernelspec": {
   "display_name": "crime_env",
   "language": "python",
   "name": "crime_env"
  },
  "language_info": {
   "codemirror_mode": {
    "name": "ipython",
    "version": 3
   },
   "file_extension": ".py",
   "mimetype": "text/x-python",
   "name": "python",
   "nbconvert_exporter": "python",
   "pygments_lexer": "ipython3",
   "version": "3.12.6"
  }
 },
 "nbformat": 4,
 "nbformat_minor": 5
}
